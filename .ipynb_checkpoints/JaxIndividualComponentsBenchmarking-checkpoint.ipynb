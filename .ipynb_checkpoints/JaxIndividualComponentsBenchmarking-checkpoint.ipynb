{
 "cells": [
  {
   "cell_type": "code",
   "execution_count": 6,
   "metadata": {},
   "outputs": [],
   "source": []
  },
  {
   "cell_type": "code",
   "execution_count": 7,
   "metadata": {},
   "outputs": [],
   "source": [
    "import os\n",
    "os.environ[\"CUDA_DEVICE_ORDER\"] = \"PCI_BUS_ID\"\n",
    "os.environ[\"CUDA_VISIBLE_DEVICES\"] = \"0\""
   ]
  },
  {
   "cell_type": "code",
   "execution_count": 8,
   "metadata": {},
   "outputs": [
    {
     "ename": "ModuleNotFoundError",
     "evalue": "No module named 'jax'",
     "output_type": "error",
     "traceback": [
      "\u001b[0;31m---------------------------------------------------------------------------\u001b[0m",
      "\u001b[0;31mModuleNotFoundError\u001b[0m                       Traceback (most recent call last)",
      "\u001b[0;32m<ipython-input-8-b6759501699a>\u001b[0m in \u001b[0;36m<module>\u001b[0;34m\u001b[0m\n\u001b[0;32m----> 1\u001b[0;31m \u001b[0;32mimport\u001b[0m \u001b[0mjax\u001b[0m\u001b[0;34m\u001b[0m\u001b[0;34m\u001b[0m\u001b[0m\n\u001b[0m\u001b[1;32m      2\u001b[0m \u001b[0;32mimport\u001b[0m \u001b[0mjax\u001b[0m\u001b[0;34m.\u001b[0m\u001b[0mnumpy\u001b[0m \u001b[0;32mas\u001b[0m \u001b[0mjnp\u001b[0m\u001b[0;34m\u001b[0m\u001b[0;34m\u001b[0m\u001b[0m\n\u001b[1;32m      3\u001b[0m \u001b[0;32mfrom\u001b[0m \u001b[0maurora\u001b[0m \u001b[0;32mimport\u001b[0m \u001b[0mAurora\u001b[0m\u001b[0;34m\u001b[0m\u001b[0;34m\u001b[0m\u001b[0m\n\u001b[1;32m      4\u001b[0m \u001b[0;32mfrom\u001b[0m \u001b[0maurora\u001b[0m\u001b[0;34m.\u001b[0m\u001b[0mbatch\u001b[0m \u001b[0;32mimport\u001b[0m \u001b[0mBatch\u001b[0m\u001b[0;34m\u001b[0m\u001b[0;34m\u001b[0m\u001b[0m\n\u001b[1;32m      5\u001b[0m \u001b[0;32mimport\u001b[0m \u001b[0morbax\u001b[0m\u001b[0;34m.\u001b[0m\u001b[0mcheckpoint\u001b[0m \u001b[0;32mas\u001b[0m \u001b[0mocp\u001b[0m\u001b[0;34m\u001b[0m\u001b[0;34m\u001b[0m\u001b[0m\n",
      "\u001b[0;31mModuleNotFoundError\u001b[0m: No module named 'jax'"
     ]
    }
   ],
   "source": [
    "import jax\n",
    "import jax.numpy as jnp\n",
    "from aurora import Aurora\n",
    "from aurora.batch import Batch\n",
    "import orbax.checkpoint as ocp\n",
    "import xarray as xr\n",
    "from aurora.model.encoder import Perceiver3DEncoder\n",
    "from flax.core.frozen_dict import freeze, FrozenDict\n",
    "\n",
    "# 1) Build your model and a dummy batch\n",
    "model = AuroraSmall(use_lora=False)\n",
    "rng = jax.random.PRNGKey(0)\n",
    "\n",
    "download_path = Path(\"datasetEnviousScratch\")\n",
    "static_vars_ds = xr.open_dataset(download_path / \"static.nc\", engine=\"netcdf4\")\n",
    "surf_vars_ds = xr.open_dataset(download_path / \"2023-01-01-surface-level.nc\", engine=\"netcdf4\")\n",
    "atmos_vars_ds = xr.open_dataset(download_path / \"2023-01-01-atmospheric.nc\", engine=\"netcdf4\")\n",
    "\n",
    "i = 1  # Select this time index in the downloaded data.\n",
    "\n",
    "batch = Batch(\n",
    "    surf_vars={\n",
    "        # First select time points `i` and `i - 1`. Afterwards, `[None]` inserts a\n",
    "        # batch dimension of size one.\n",
    "        \"2t\": jnp.array(surf_vars_ds[\"t2m\"].values[[i - 1, i]][None]),\n",
    "        \"10u\": jnp.array(surf_vars_ds[\"u10\"].values[[i - 1, i]][None]),\n",
    "        \"10v\": jnp.array(surf_vars_ds[\"v10\"].values[[i - 1, i]][None]),\n",
    "        \"msl\": jnp.array(surf_vars_ds[\"msl\"].values[[i - 1, i]][None]),\n",
    "    },\n",
    "    static_vars={\n",
    "        # The static variables are constant, so we just get them for the first time.\n",
    "        \"z\": jnp.array(static_vars_ds[\"z\"].values[0]),\n",
    "        \"slt\": jnp.array(static_vars_ds[\"slt\"].values[0]),\n",
    "        \"lsm\": jnp.array(static_vars_ds[\"lsm\"].values[0]),\n",
    "    },\n",
    "    atmos_vars={\n",
    "        \"t\": jnp.array(atmos_vars_ds[\"t\"].values[[i - 1, i]][None]),\n",
    "        \"u\": jnp.array(atmos_vars_ds[\"u\"].values[[i - 1, i]][None]),\n",
    "        \"v\": jnp.array(atmos_vars_ds[\"v\"].values[[i - 1, i]][None]),\n",
    "        \"q\": jnp.array(atmos_vars_ds[\"q\"].values[[i - 1, i]][None]),\n",
    "        \"z\": jnp.array(atmos_vars_ds[\"z\"].values[[i - 1, i]][None]),\n",
    "    },\n",
    "    metadata=Metadata(\n",
    "        lat=jnp.array(surf_vars_ds.latitude.values, dtype=jnp.float32),\n",
    "        lon=jnp.array(surf_vars_ds.longitude.values, dtype=jnp.float32),\n",
    "        # Converting to `datetime64[s]` ensures that the output of `tolist()` gives\n",
    "        # `datetime.datetime`s. Note that this needs to be a tuple of length one:\n",
    "        # one value for every batch element.\n",
    "        time=(\n",
    "            jnp.array(\n",
    "                surf_vars_ds.valid_time.values.astype(\"datetime64[s]\").tolist()[1].timestamp(),\n",
    "                dtype=jnp.int64,\n",
    "            ),\n",
    "        ),\n",
    "        atmos_levels=tuple(int(level) for level in atmos_vars_ds.pressure_level.values),\n",
    "    ),\n",
    ")\n",
    "patch_size = 4\n",
    "surf_state = FrozenDict({})\n",
    "\n",
    "batch = batch.normalise(surf_stats=surf_state)\n",
    "batch = batch.crop(patch_size=patch_size)\n",
    "\n",
    "\n",
    "\n",
    "params_encoder = ocp.StandardCheckpointer().restore(\"/home1/a/akaush/aurora/checkpoints\")\n",
    "params_backbone = ocp.StandardCheckpointer().restore(\n",
    "    \"/home1/a/akaush/aurora/checkpointsTillBackbone\"\n",
    ")\n",
    "params_decoder = ocp.StandardCheckpointer().restore(\"/home1/a/akaush/aurora/checkpointsTillDecoder\")\n",
    "params = {\n",
    "    \"encoder\": params_encoder[\"encoder\"],\n",
    "    \"backbone\": params_backbone[\"backbone\"],\n",
    "    \"decoder\": params_decoder[\"decoder\"],\n",
    "}\n",
    "params = jax.device_put(params, device=jax.devices(\"gpu\")[0])\n",
    "\n",
    "encoder_params = params['encoder']\n",
    "encoder_params = jax.device_put(encoder_params, device=jax.devices(\"gpu\")[0])\n",
    "\n",
    "\n",
    "apply_fn = jax.jit(model.apply)\n",
    "pred = apply_fn({\"params\": params}, batch, training=False, rng=rng)\n",
    "\n",
    "encoder_rng, rng = jax.random.split(rng, 2)\n",
    "encoder_apply_jit = jax.jit(model.encoder.apply)\n",
    "timestep = 21600"
   ]
  },
  {
   "cell_type": "code",
   "execution_count": null,
   "metadata": {},
   "outputs": [],
   "source": [
    "x = encoder_apply_jit(\n",
    "    {\"params\": encoder_params},\n",
    "    batch,\n",
    "    lead_time=timestep,\n",
    "    training=False,\n",
    "    rng=encoder_rng,\n",
    ")"
   ]
  }
 ],
 "metadata": {
  "kernelspec": {
   "display_name": "Python 3",
   "language": "python",
   "name": "python3"
  },
  "language_info": {
   "codemirror_mode": {
    "name": "ipython",
    "version": 3
   },
   "file_extension": ".py",
   "mimetype": "text/x-python",
   "name": "python",
   "nbconvert_exporter": "python",
   "pygments_lexer": "ipython3",
   "version": "3.6.15"
  }
 },
 "nbformat": 4,
 "nbformat_minor": 2
}
